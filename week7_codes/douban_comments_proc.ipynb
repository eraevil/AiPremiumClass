{
 "cells": [
  {
   "cell_type": "markdown",
   "metadata": {},
   "source": [
    "### 数据预处理\n",
    "\n",
    "1. 文本评论，尝试筛选Star：1和Star：5 取值样本各1W条，做2分类模型设计\n",
    "2. 文本长度取合理范围\n",
    "3. 关于停用词，标点、其它无关符号"
   ]
  },
  {
   "cell_type": "code",
   "execution_count": 1,
   "metadata": {},
   "outputs": [
    {
     "name": "stderr",
     "output_type": "stream",
     "text": [
      "2125056it [00:16, 128443.19it/s]\n"
     ]
    }
   ],
   "source": [
    "import csv\n",
    "from tqdm import tqdm\n",
    "\n",
    "pos_cnt, neg_cnt = 0,0\n",
    "comments, labels = [],[]\n",
    "\n",
    "with open('DMSC.csv') as f:\n",
    "    reader = csv.DictReader(f) \n",
    "    for item in tqdm(reader):\n",
    "        comment = item['Comment']\n",
    "        star = int(item['Star'])\n",
    "        if star in [1,5] and 15 <= len(comment) <= 150:\n",
    "            comments.append(comment)\n",
    "            labels.append(1 if star == 5 else 0)  # 1 正样本 0 负样本\n",
    "\n",
    "            "
   ]
  },
  {
   "cell_type": "code",
   "execution_count": 2,
   "metadata": {},
   "outputs": [
    {
     "data": {
      "text/plain": [
       "547840"
      ]
     },
     "execution_count": 2,
     "metadata": {},
     "output_type": "execute_result"
    }
   ],
   "source": [
    "len(comments)"
   ]
  },
  {
   "cell_type": "code",
   "execution_count": 3,
   "metadata": {},
   "outputs": [],
   "source": [
    "# 统计评论文本长度\n",
    "cmt_lens = [len(cmt) for cmt in comments]"
   ]
  },
  {
   "cell_type": "code",
   "execution_count": 4,
   "metadata": {},
   "outputs": [
    {
     "data": {
      "image/png": "[encoded data removed]",
      "text/plain": [
       "<Figure size 640x480 with 1 Axes>"
      ]
     },
     "metadata": {},
     "output_type": "display_data"
    }
   ],
   "source": [
    "import matplotlib.pyplot as plt\n",
    "\n",
    "plt.hist(cmt_lens, bins=50)\n",
    "plt.show()"
   ]
  },
  {
   "cell_type": "code",
   "execution_count": 5,
   "metadata": {},
   "outputs": [
    {
     "data": {
      "image/png": "[encoded data removed]",
      "text/plain": [
       "<Figure size 640x480 with 1 Axes>"
      ]
     },
     "metadata": {},
     "output_type": "display_data"
    }
   ],
   "source": [
    "plt.boxplot(cmt_lens)\n",
    "plt.show()"
   ]
  },
  {
   "cell_type": "code",
   "execution_count": 6,
   "metadata": {},
   "outputs": [],
   "source": [
    "# 筛选无关标点符号、格式控制符号\n",
    "comments = [cmt.replace('。',' ').replace('，',' ') for cmt in comments]"
   ]
  },
  {
   "cell_type": "code",
   "execution_count": 7,
   "metadata": {},
   "outputs": [
    {
     "name": "stderr",
     "output_type": "stream",
     "text": [
      "Building prefix dict from the default dictionary ...\n",
      "Loading model from cache /tmp/jieba.cache\n",
      "Loading model cost 0.552 seconds.\n",
      "Prefix dict has been built successfully.\n"
     ]
    }
   ],
   "source": [
    "# 结巴分词\n",
    "import jieba\n",
    "comments_jieba = [' '.join(jieba.cut(cmt)) for cmt in comments]"
   ]
  },
  {
   "cell_type": "code",
   "execution_count": 8,
   "metadata": {},
   "outputs": [
    {
     "data": {
      "text/plain": [
       "['  什么 破烂 反派   毫无 戏剧 冲突 能 消耗 两个 多 小时 生命   还 强加 爱情 戏   脑 残片 好 圈钱 倒 是 真的  ',\n",
       " '  机甲 之战 超超 好看   比 变形金刚 强 ； 人   神   变异 人   人工智能 互殴   强强 强强 ； 每 一小 段末句 都 是 槽 或者 笑点   应该 死 了 不少 编剧 ； Jane 不来 客串   雷神 没露   扣分 ； 女神 配 怪兽   fair   enough ； 美国 队长 我 最 喜欢 他 的 盾   大概 因为 紫龙 ； 难得 人物 多次 发表 演讲 还 不 死 ； 最后   找到 了 下半年 新发型   开心 ！',\n",
       " '  说实话 其实 剧情 就 那样 吧   非漫 威粉 看着 可能 有 的 地方 会 get 不到 G 点 吧   （ 其实 漫威 卖 的 不是 剧情 而是 人物 和 世界观 呀   漫威 宇宙 棒棒 哒 ） 但 对于 漫威粉 来说 真是 全程 高能 + IMAX 燃爆 啊 ！ # 漫威 大法 好 #',\n",
       " '  没有 了 洛基 这个 小基仔 真是 觉得 即墨 如雪 啊',\n",
       " '  看毕   我 激动 地 对 友人 说   等等 奥创 要 来 毁灭 台北 怎么办 厚   她 拍了拍 我 肩膀   没事   反正 你 买 了 两份 旅行 保险   惹 ......',\n",
       " '  不 出 意料 得烂   喜欢 这部 电影 的 孩子   大概 也 喜欢 变 4 … …',\n",
       " '  哪个 保证 一刀 不 剪 的   不是 剪 了 好几刀 吗 ！',\n",
       " '  真的 是 全程无 尿点   漫威 在 拍 了 这么 多 系列片 之后 再 拿捏 妇联 2 真是 得心应手   笑点 爆发 点齐飞   拿 锤子 的 哽太 伤人   233   唯一 遗憾   没 洛基',\n",
       " '  绝逼 不 质疑 尾灯 的 导演 和 编剧 水平    ',\n",
       " '  赶上 第一波 看好 开心 ！ 大乱斗 超 好评 ！ ！ ！ 总之 笑料 和 精彩 程度 都 不减 ！ 所有 的 BG 线 都 让 人 尴尬 到 内心 崩溃   寡姐 和 Hulk 在 一起 时   简直 就是 是 超级 宠物 教练   猩红 女巫 和 快 银 也 都 是 萌萌萌 ！ 我 有 好多 嘈想 吐   但 我 不能 剧透   麻蛋 ！']"
      ]
     },
     "execution_count": 8,
     "metadata": {},
     "output_type": "execute_result"
    }
   ],
   "source": [
    "comments_jieba[:10]"
   ]
  },
  {
   "cell_type": "code",
   "execution_count": 9,
   "metadata": {},
   "outputs": [
    {
     "name": "stderr",
     "output_type": "stream",
     "text": [
      "sentencepiece_trainer.cc(78) LOG(INFO) Starts training with : \n",
      "trainer_spec {\n",
      "  input: comments.txt\n",
      "  input_format: \n",
      "  model_prefix: spm_model\n",
      "  model_type: UNIGRAM\n",
      "  vocab_size: 5000\n",
      "  self_test_sample_size: 0\n",
      "  character_coverage: 0.9995\n",
      "  input_sentence_size: 0\n",
      "  shuffle_input_sentence: 1\n",
      "  seed_sentencepiece_size: 1000000\n",
      "  shrinking_factor: 0.75\n",
      "  max_sentence_length: 4192\n",
      "  num_threads: 16\n",
      "  num_sub_iterations: 2\n",
      "  max_sentencepiece_length: 16\n",
      "  split_by_unicode_script: 1\n",
      "  split_by_number: 1\n",
      "  split_by_whitespace: 1\n",
      "  split_digits: 0\n",
      "  pretokenization_delimiter: \n",
      "  treat_whitespace_as_suffix: 0\n",
      "  allow_whitespace_only_pieces: 0\n",
      "  required_chars: \n",
      "  byte_fallback: 0\n",
      "  vocabulary_output_piece_score: 1\n",
      "  train_extremely_large_corpus: 0\n",
      "  seed_sentencepieces_file: \n",
      "  hard_vocab_limit: 1\n",
      "  use_all_vocab: 0\n",
      "  unk_id: 0\n",
      "  bos_id: 1\n",
      "  eos_id: 2\n",
      "  pad_id: -1\n",
      "  unk_piece: <unk>\n",
      "  bos_piece: <s>\n",
      "  eos_piece: </s>\n",
      "  pad_piece: <pad>\n",
      "  unk_surface:  ⁇ \n",
      "  enable_differential_privacy: 0\n",
      "  differential_privacy_noise_level: 0\n",
      "  differential_privacy_clipping_threshold: 0\n",
      "}\n",
      "normalizer_spec {\n",
      "  name: nmt_nfkc\n",
      "  add_dummy_prefix: 1\n",
      "  remove_extra_whitespaces: 1\n",
      "  escape_whitespaces: 1\n",
      "  normalization_rule_tsv: \n",
      "}\n",
      "denormalizer_spec {}\n",
      "trainer_interface.cc(353) LOG(INFO) SentenceIterator is not specified. Using MultiFileSentenceIterator.\n",
      "trainer_interface.cc(185) LOG(INFO) Loading corpus: comments.txt\n",
      "trainer_interface.cc(409) LOG(INFO) Loaded all 550363 sentences\n",
      "trainer_interface.cc(425) LOG(INFO) Adding meta_piece: <unk>\n",
      "trainer_interface.cc(425) LOG(INFO) Adding meta_piece: <s>\n",
      "trainer_interface.cc(425) LOG(INFO) Adding meta_piece: </s>\n",
      "trainer_interface.cc(430) LOG(INFO) Normalizing sentences...\n",
      "trainer_interface.cc(539) LOG(INFO) all chars count=27724794\n",
      "trainer_interface.cc(550) LOG(INFO) Done: 99.95% characters are covered.\n",
      "trainer_interface.cc(560) LOG(INFO) Alphabet size=4754\n",
      "trainer_interface.cc(561) LOG(INFO) Final character coverage=0.9995\n",
      "trainer_interface.cc(592) LOG(INFO) Done! preprocessed 550320 sentences.\n",
      "unigram_model_trainer.cc(265) LOG(INFO) Making suffix array...\n",
      "unigram_model_trainer.cc(269) LOG(INFO) Extracting frequent sub strings... node_num=8203558\n",
      "unigram_model_trainer.cc(312) LOG(INFO) Initialized 1004754 seed sentencepieces\n",
      "trainer_interface.cc(598) LOG(INFO) Tokenizing input sentences with whitespace: 550320\n",
      "trainer_interface.cc(609) LOG(INFO) Done! 1933511\n",
      "unigram_model_trainer.cc(602) LOG(INFO) Using 1933511 sentences for EM training\n",
      "unigram_model_trainer.cc(618) LOG(INFO) EM sub_iter=0 size=667943 obj=43.4432 num_tokens=8380354 num_tokens/piece=12.5465\n",
      "unigram_model_trainer.cc(618) LOG(INFO) EM sub_iter=1 size=581855 obj=40.8503 num_tokens=8433203 num_tokens/piece=14.4937\n",
      "unigram_model_trainer.cc(618) LOG(INFO) EM sub_iter=0 size=436025 obj=40.9076 num_tokens=8594048 num_tokens/piece=19.71\n",
      "unigram_model_trainer.cc(618) LOG(INFO) EM sub_iter=1 size=435011 obj=40.8016 num_tokens=8606851 num_tokens/piece=19.7854\n",
      "unigram_model_trainer.cc(618) LOG(INFO) EM sub_iter=0 size=326235 obj=41.1134 num_tokens=8842493 num_tokens/piece=27.1047\n",
      "unigram_model_trainer.cc(618) LOG(INFO) EM sub_iter=1 size=326215 obj=40.9772 num_tokens=8849687 num_tokens/piece=27.1284\n",
      "unigram_model_trainer.cc(618) LOG(INFO) EM sub_iter=0 size=244659 obj=41.4427 num_tokens=9153684 num_tokens/piece=37.414\n",
      "unigram_model_trainer.cc(618) LOG(INFO) EM sub_iter=1 size=244654 obj=41.2584 num_tokens=9161045 num_tokens/piece=37.4449\n",
      "unigram_model_trainer.cc(618) LOG(INFO) EM sub_iter=0 size=183489 obj=41.835 num_tokens=9480535 num_tokens/piece=51.6681\n",
      "unigram_model_trainer.cc(618) LOG(INFO) EM sub_iter=1 size=183489 obj=41.6373 num_tokens=9488678 num_tokens/piece=51.7125\n",
      "unigram_model_trainer.cc(618) LOG(INFO) EM sub_iter=0 size=137616 obj=42.2868 num_tokens=9819603 num_tokens/piece=71.3551\n",
      "unigram_model_trainer.cc(618) LOG(INFO) EM sub_iter=1 size=137616 obj=42.0876 num_tokens=9826366 num_tokens/piece=71.4042\n",
      "unigram_model_trainer.cc(618) LOG(INFO) EM sub_iter=0 size=103212 obj=42.8035 num_tokens=10170481 num_tokens/piece=98.5397\n",
      "unigram_model_trainer.cc(618) LOG(INFO) EM sub_iter=1 size=103212 obj=42.6006 num_tokens=10179101 num_tokens/piece=98.6232\n",
      "unigram_model_trainer.cc(618) LOG(INFO) EM sub_iter=0 size=77409 obj=43.3968 num_tokens=10552449 num_tokens/piece=136.321\n",
      "unigram_model_trainer.cc(618) LOG(INFO) EM sub_iter=1 size=77409 obj=43.1826 num_tokens=10557483 num_tokens/piece=136.386\n",
      "unigram_model_trainer.cc(618) LOG(INFO) EM sub_iter=0 size=58056 obj=44.0667 num_tokens=10965391 num_tokens/piece=188.876\n",
      "unigram_model_trainer.cc(618) LOG(INFO) EM sub_iter=1 size=58056 obj=43.8376 num_tokens=10976626 num_tokens/piece=189.07\n",
      "unigram_model_trainer.cc(618) LOG(INFO) EM sub_iter=0 size=43542 obj=44.8257 num_tokens=11417861 num_tokens/piece=262.226\n",
      "unigram_model_trainer.cc(618) LOG(INFO) EM sub_iter=1 size=43542 obj=44.5809 num_tokens=11421655 num_tokens/piece=262.314\n",
      "unigram_model_trainer.cc(618) LOG(INFO) EM sub_iter=0 size=32656 obj=45.6691 num_tokens=11910791 num_tokens/piece=364.735\n",
      "unigram_model_trainer.cc(618) LOG(INFO) EM sub_iter=1 size=32656 obj=45.4042 num_tokens=11919095 num_tokens/piece=364.989\n",
      "unigram_model_trainer.cc(618) LOG(INFO) EM sub_iter=0 size=24492 obj=46.6184 num_tokens=12450477 num_tokens/piece=508.349\n",
      "unigram_model_trainer.cc(618) LOG(INFO) EM sub_iter=1 size=24492 obj=46.3271 num_tokens=12458962 num_tokens/piece=508.695\n",
      "unigram_model_trainer.cc(618) LOG(INFO) EM sub_iter=0 size=18369 obj=47.7219 num_tokens=13075893 num_tokens/piece=711.846\n",
      "unigram_model_trainer.cc(618) LOG(INFO) EM sub_iter=1 size=18369 obj=47.3836 num_tokens=13080347 num_tokens/piece=712.088\n",
      "unigram_model_trainer.cc(618) LOG(INFO) EM sub_iter=0 size=13776 obj=49.0539 num_tokens=13826560 num_tokens/piece=1003.67\n",
      "unigram_model_trainer.cc(618) LOG(INFO) EM sub_iter=1 size=13776 obj=48.6517 num_tokens=13830418 num_tokens/piece=1003.95\n",
      "unigram_model_trainer.cc(618) LOG(INFO) EM sub_iter=0 size=10332 obj=50.733 num_tokens=14755010 num_tokens/piece=1428.09\n",
      "unigram_model_trainer.cc(618) LOG(INFO) EM sub_iter=1 size=10332 obj=50.2209 num_tokens=14765680 num_tokens/piece=1429.12\n",
      "unigram_model_trainer.cc(618) LOG(INFO) EM sub_iter=0 size=7749 obj=53.1366 num_tokens=16013000 num_tokens/piece=2066.46\n",
      "unigram_model_trainer.cc(618) LOG(INFO) EM sub_iter=1 size=7749 obj=52.425 num_tokens=16030786 num_tokens/piece=2068.76\n",
      "unigram_model_trainer.cc(618) LOG(INFO) EM sub_iter=0 size=5811 obj=57.4463 num_tokens=18182706 num_tokens/piece=3129.01\n",
      "unigram_model_trainer.cc(618) LOG(INFO) EM sub_iter=1 size=5811 obj=56.1408 num_tokens=18197536 num_tokens/piece=3131.57\n",
      "unigram_model_trainer.cc(618) LOG(INFO) EM sub_iter=0 size=5500 obj=57.5502 num_tokens=18782446 num_tokens/piece=3414.99\n",
      "unigram_model_trainer.cc(618) LOG(INFO) EM sub_iter=1 size=5500 obj=57.2038 num_tokens=18782446 num_tokens/piece=3414.99\n",
      "trainer_interface.cc(687) LOG(INFO) Saving model: spm_model.model\n",
      "trainer_interface.cc(699) LOG(INFO) Saving vocabs: spm_model.vocab\n"
     ]
    }
   ],
   "source": [
    "# sentencepiec 分词\n",
    "import sentencepiece as spm\n",
    "sp = spm.SentencePieceProcessor()\n",
    "\n",
    "with open('comments.txt', 'w', encoding='utf-8') as f:\n",
    "    for cmt in comments:\n",
    "        f.write(cmt + '\\n')\n",
    "\n",
    "# 分词模型训练\n",
    "spm.SentencePieceTrainer.Train(\n",
    "    input='comments.txt', model_prefix='spm_model', vocab_size=5000,)"
   ]
  },
  {
   "cell_type": "code",
   "execution_count": 10,
   "metadata": {},
   "outputs": [
    {
     "data": {
      "text/plain": [
       "['▁ 什么 破 烂 反 派 ▁ 毫 无 戏 剧 冲 突 能 消 耗 两个 多 小 时 生 命 ▁ 还 强 加 爱情 戏 ▁ 脑 残 片 好 圈 钱 倒 是 真的',\n",
       " '▁ 机 甲 之 战 超 超 好看 ▁ 比 变 形 金 刚 强 ; 人 ▁ 神 ▁ 变 异 人 ▁ 人 工 智 能 互 殴 ▁ 强 强 强 强 ; 每 一 小 段 末 句 都是 槽 或 者 笑点 ▁ 应该 死 了 不 少 编 剧 ; J an e 不 来 客 串 ▁ 雷 神 没 露 ▁ 扣 分 ; 女 神 配 怪 兽 ▁ f a i r ▁ e n o u g h ; 美 国 队 长 我 最 喜欢 他 的 盾 ▁ 大 概 因为 紫 龙 ; 难 得 人物 多 次 发 表 演 讲 还 不 死 ; 最后 ▁ 找 到了 下 半 年 新 发 型 ▁ 开 心 !',\n",
       " '▁ 说 实 话 其 实 剧情 就 那 样 吧 ▁ 非 漫 威 粉 看 着 可能 有 的 地 方 会 g e t 不 到 G 点 吧 ▁ ( 其 实 漫 威 卖 的 不是 剧情 而 是 人物 和 世界 观 呀 ▁ 漫 威 宇 宙 棒 棒 哒 ) 但 对 于 漫 威 粉 来说 真是 全程 高 能 + I M A X 燃 爆 啊 ! # 漫 威 大 法 好 #',\n",
       " '▁没有 了 洛 基 这个 小 基 仔 真是 觉得 即 墨 如 雪 啊',\n",
       " '▁ 看 毕 ▁我 激 动 地 对 友 人 说 ▁ 等 等 奥 创 要 来 毁 灭 台 北 怎么 办 厚 ▁ 她 拍 了 拍 我 肩 膀 ▁ 没 事 ▁ 反 正 你 买 了 两 份 旅 行 保 险 ▁ 惹 ......',\n",
       " '▁ 不 出 意 料 得 烂 ▁ 喜欢 这部电影 的 孩 子 ▁ 大 概 也 喜欢 变 4 ......',\n",
       " '▁ 哪 个 保 证 一 刀 不 剪 的 ▁ 不是 剪 了 好 几 刀 吗 !',\n",
       " '▁ 真的是 全程 无 尿 点 ▁ 漫 威 在 拍 了 这么 多 系 列 片 之后 再 拿 捏 妇 联 2 真是 得 心 应 手 ▁ 笑点 爆 发 点 齐 飞 ▁ 拿 锤 子 的 哽 太 伤 人 ▁ 2 3 3 ▁ 唯 一 遗 憾 ▁ 没 洛 基',\n",
       " '▁ 绝 逼 不 质 疑 尾 灯 的 导演 和 编 剧 水 平',\n",
       " '▁ 赶 上 第 一 波 看 好 开 心 ! 大 乱 斗 超 好 评 !!! 总 之 笑 料 和 精彩 程 度 都不 减 ! 所有 的 B G 线 都 让人 尴尬 到 内 心 崩 溃 ▁ 寡 姐 和 H u l k 在 一起 时 ▁ 简直 就是 是 超级 宠 物 教 练 ▁ 猩 红 女 巫 和 快 银 也 都是 萌 萌 萌 ! 我 有 好 多 嘈 想 吐 ▁但 我 不能 剧 透 ▁ 麻 蛋 !']"
      ]
     },
     "execution_count": 10,
     "metadata": {},
     "output_type": "execute_result"
    }
   ],
   "source": [
    "# 读取分词模型\n",
    "sp.Load('spm_model.model')\n",
    "# 分词\n",
    "comments_spm = []\n",
    "for cmt in comments:\n",
    "    cmt_spm = sp.EncodeAsPieces(cmt)\n",
    "    comments_spm.append(' '.join(cmt_spm))\n",
    "\n",
    "comments_spm[:10]"
   ]
  },
  {
   "cell_type": "code",
   "execution_count": 11,
   "metadata": {},
   "outputs": [
    {
     "name": "stdout",
     "output_type": "stream",
     "text": [
      "语料处理保存完成！\n"
     ]
    }
   ],
   "source": [
    "import pickle\n",
    "\n",
    "with open('comments_jieba.bin', 'wb') as f:\n",
    "    pickle.dump((comments_jieba, labels), f)\n",
    "\n",
    "with open('comments_spm.bin', 'wb') as f:\n",
    "    pickle.dump((comments_spm, labels), f)\n",
    "\n",
    "print('语料处理保存完成！')"
   ]
  },
  {
   "cell_type": "code",
   "execution_count": null,
   "metadata": {},
   "outputs": [],
   "source": []
  }
 ],
 "metadata": {
  "kernelspec": {
   "display_name": "base",
   "language": "python",
   "name": "python3"
  },
  "language_info": {
   "codemirror_mode": {
    "name": "ipython",
    "version": 3
   },
   "file_extension": ".py",
   "mimetype": "text/x-python",
   "name": "python",
   "nbconvert_exporter": "python",
   "pygments_lexer": "ipython3",
   "version": "3.11.10"
  }
 },
 "nbformat": 4,
 "nbformat_minor": 2
}
