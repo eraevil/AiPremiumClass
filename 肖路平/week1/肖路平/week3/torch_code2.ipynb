{
 "cells": [
  {
   "cell_type": "code",
   "execution_count": 2,
   "metadata": {},
   "outputs": [],
   "source": [
    "import torch\n",
    "import torch.nn as nn\n",
    "import torch.optim as optim\n",
    "from torchvision.transforms.v2 import ToTensor\n",
    "from torchvision.datasets import KMNIST\n",
    "from torch.utils.data import DataLoader"
   ]
  },
  {
   "cell_type": "code",
   "execution_count": 3,
   "metadata": {},
   "outputs": [],
   "source": [
    "epochs=20\n",
    "BATCH_SIZE=128"
   ]
  },
  {
   "cell_type": "code",
   "execution_count": null,
   "metadata": {},
   "outputs": [
    {
     "name": "stderr",
     "output_type": "stream",
     "text": [
      "e:\\miniconda3\\envs\\py312\\Lib\\site-packages\\torchvision\\transforms\\v2\\_deprecated.py:41: UserWarning: The transform `ToTensor()` is deprecated and will be removed in a future release. Instead, please use `v2.Compose([v2.ToImage(), v2.ToDtype(torch.float32, scale=True)])`.\n",
      "  warnings.warn(\n"
     ]
    },
    {
     "name": "stdout",
     "output_type": "stream",
     "text": [
      "Downloading http://codh.rois.ac.jp/kmnist/dataset/kmnist/train-images-idx3-ubyte.gz\n",
      "Downloading https://codh.rois.ac.jp/kmnist/dataset/kmnist/train-images-idx3-ubyte.gz to ./data\\KMNIST\\raw\\train-images-idx3-ubyte.gz\n"
     ]
    },
    {
     "name": "stderr",
     "output_type": "stream",
     "text": [
      "100.0%\n"
     ]
    },
    {
     "name": "stdout",
     "output_type": "stream",
     "text": [
      "Extracting ./data\\KMNIST\\raw\\train-images-idx3-ubyte.gz to ./data\\KMNIST\\raw\n",
      "\n",
      "Downloading http://codh.rois.ac.jp/kmnist/dataset/kmnist/train-labels-idx1-ubyte.gz\n",
      "Downloading https://codh.rois.ac.jp/kmnist/dataset/kmnist/train-labels-idx1-ubyte.gz to ./data\\KMNIST\\raw\\train-labels-idx1-ubyte.gz\n"
     ]
    },
    {
     "name": "stderr",
     "output_type": "stream",
     "text": [
      "100.0%\n"
     ]
    },
    {
     "name": "stdout",
     "output_type": "stream",
     "text": [
      "Extracting ./data\\KMNIST\\raw\\train-labels-idx1-ubyte.gz to ./data\\KMNIST\\raw\n",
      "\n",
      "Downloading http://codh.rois.ac.jp/kmnist/dataset/kmnist/t10k-images-idx3-ubyte.gz\n",
      "Downloading https://codh.rois.ac.jp/kmnist/dataset/kmnist/t10k-images-idx3-ubyte.gz to ./data\\KMNIST\\raw\\t10k-images-idx3-ubyte.gz\n"
     ]
    },
    {
     "name": "stderr",
     "output_type": "stream",
     "text": [
      "100.0%\n"
     ]
    },
    {
     "name": "stdout",
     "output_type": "stream",
     "text": [
      "Extracting ./data\\KMNIST\\raw\\t10k-images-idx3-ubyte.gz to ./data\\KMNIST\\raw\n",
      "\n",
      "Downloading http://codh.rois.ac.jp/kmnist/dataset/kmnist/t10k-labels-idx1-ubyte.gz\n",
      "Downloading https://codh.rois.ac.jp/kmnist/dataset/kmnist/t10k-labels-idx1-ubyte.gz to ./data\\KMNIST\\raw\\t10k-labels-idx1-ubyte.gz\n"
     ]
    },
    {
     "name": "stderr",
     "output_type": "stream",
     "text": [
      "100.0%"
     ]
    },
    {
     "name": "stdout",
     "output_type": "stream",
     "text": [
      "Extracting ./data\\KMNIST\\raw\\t10k-labels-idx1-ubyte.gz to ./data\\KMNIST\\raw\n",
      "\n"
     ]
    },
    {
     "name": "stderr",
     "output_type": "stream",
     "text": [
      "\n"
     ]
    }
   ],
   "source": [
    "train_data =KMNIST(root='./KMNIST_data', train=True, download=True, transform=ToTensor())\n",
    "test_data =KMNIST(root='./KMNIST_data', train=False, download=True, transform=ToTensor())"
   ]
  },
  {
   "cell_type": "code",
   "execution_count": 5,
   "metadata": {},
   "outputs": [],
   "source": [
    "train_dl=DataLoader(train_data,batch_size=BATCH_SIZE,shuffle=True)\n",
    "test_dl=DataLoader(test_data,batch_size=BATCH_SIZE)"
   ]
  },
  {
   "cell_type": "code",
   "execution_count": 14,
   "metadata": {},
   "outputs": [],
   "source": [
    "def train_iter(epochs,model,train_dl,lr):\n",
    "    train_hsit=[]\n",
    "    loss_fn=nn.CrossEntropyLoss()\n",
    "    optimizer=torch.optim.SGD(model.parameters(),lr=lr)\n",
    "\n",
    "    for epoch in range(epochs):\n",
    "        for data,target in train_dl:\n",
    "            data=data.view(-1,784)\n",
    "            output=model(data)\n",
    "            loss=loss_fn(output,target)\n",
    "            optimizer.zero_grad()\n",
    "            loss.backward()\n",
    "            optimizer.step()\n",
    "        print(f\"epoch:{epoch},loss:{loss.item()}\")\n",
    "        train_hsit.append(loss.item()) #记录训练损失\n",
    "    return train_hsit        "
   ]
  },
  {
   "cell_type": "code",
   "execution_count": 7,
   "metadata": {},
   "outputs": [],
   "source": [
    "def test_acc(test_dl,model):\n",
    "    correct= 0\n",
    "    total=0\n",
    "    with torch.no_grad():\n",
    "        for data,target in test_dl:\n",
    "            output = model(data.reshape(-1,784))\n",
    "            _, predicted = torch.max(output.data, 1)\n",
    "            total += target.size(0)\n",
    "            correct += (predicted == target).sum().item()\n",
    "    return correct/total*100        \n",
    "            "
   ]
  },
  {
   "cell_type": "code",
   "execution_count": 15,
   "metadata": {},
   "outputs": [],
   "source": [
    "models=torch.nn.ModuleList([\n",
    "    nn.Sequential(\n",
    "        nn.Linear(784, 512),\n",
    "        nn.ReLU(),\n",
    "        nn.Linear(512, 256),\n",
    "        nn.ReLU(),\n",
    "        nn.Linear(256, 10)\n",
    "    ) for _ in range(3)\n",
    "])"
   ]
  },
  {
   "cell_type": "code",
   "execution_count": 23,
   "metadata": {},
   "outputs": [
    {
     "name": "stdout",
     "output_type": "stream",
     "text": [
      "epoch:0,loss:0.18767398595809937\n",
      "epoch:1,loss:0.221781387925148\n",
      "epoch:2,loss:0.22972233593463898\n",
      "epoch:3,loss:0.3546663820743561\n",
      "epoch:4,loss:0.2793673574924469\n",
      "epoch:5,loss:0.13940416276454926\n",
      "epoch:6,loss:0.4902920722961426\n",
      "epoch:7,loss:0.21329636871814728\n",
      "epoch:8,loss:0.09215471148490906\n",
      "epoch:9,loss:0.13447938859462738\n",
      "epoch:10,loss:0.14473018050193787\n",
      "epoch:11,loss:0.12491341680288315\n",
      "epoch:12,loss:0.25853949785232544\n",
      "epoch:13,loss:0.34091341495513916\n",
      "epoch:14,loss:0.08529561758041382\n",
      "epoch:15,loss:0.09644684195518494\n",
      "epoch:16,loss:0.10466007143259048\n",
      "epoch:17,loss:0.34542298316955566\n",
      "epoch:18,loss:0.11458129435777664\n",
      "epoch:19,loss:0.10687368363142014\n",
      "epoch:0,loss:0.9499241709709167\n",
      "epoch:1,loss:0.7012896537780762\n",
      "epoch:2,loss:0.7345230579376221\n",
      "epoch:3,loss:0.5661839842796326\n",
      "epoch:4,loss:0.9119976162910461\n",
      "epoch:5,loss:0.5919013619422913\n",
      "epoch:6,loss:0.5142129063606262\n",
      "epoch:7,loss:0.5326513051986694\n",
      "epoch:8,loss:0.4681750237941742\n",
      "epoch:9,loss:0.5302297472953796\n",
      "epoch:10,loss:0.5240862965583801\n",
      "epoch:11,loss:0.3518488109111786\n",
      "epoch:12,loss:0.5973290801048279\n",
      "epoch:13,loss:0.5846853852272034\n",
      "epoch:14,loss:0.2109578251838684\n",
      "epoch:15,loss:0.5598618388175964\n",
      "epoch:16,loss:0.4978940188884735\n",
      "epoch:17,loss:0.46310102939605713\n",
      "epoch:18,loss:0.39079901576042175\n",
      "epoch:19,loss:0.5148398876190186\n",
      "epoch:0,loss:2.203702211380005\n",
      "epoch:1,loss:2.0465497970581055\n",
      "epoch:2,loss:1.8770908117294312\n",
      "epoch:3,loss:1.6863561868667603\n",
      "epoch:4,loss:1.3942984342575073\n",
      "epoch:5,loss:1.1113054752349854\n",
      "epoch:6,loss:0.9752135276794434\n",
      "epoch:7,loss:0.8468794822692871\n",
      "epoch:8,loss:0.887658417224884\n",
      "epoch:9,loss:0.919529378414154\n",
      "epoch:10,loss:0.7162980437278748\n",
      "epoch:11,loss:0.6167285442352295\n",
      "epoch:12,loss:0.7724390029907227\n",
      "epoch:13,loss:0.6757602095603943\n",
      "epoch:14,loss:0.8459596037864685\n",
      "epoch:15,loss:0.7585119605064392\n",
      "epoch:16,loss:0.6097218990325928\n",
      "epoch:17,loss:0.510608971118927\n",
      "epoch:18,loss:0.6704988479614258\n",
      "epoch:19,loss:0.5726422667503357\n"
     ]
    }
   ],
   "source": [
    "# train_hists = [train_iter(epochs,model,train_dl,lr=lr) for model, lr in zip(models, [0.01,0.001,0.0001])]  #使用多个学习率比较损失函数\n",
    "\n",
    "trans_datas=[DataLoader(train_data, batch_size=bs, shuffle=True) for bs in [128,256,512]]\n",
    "train_hists = [train_iter(epochs,model,dl,lr=0.01) for model, dl in zip(models,trans_datas)]"
   ]
  },
  {
   "cell_type": "code",
   "execution_count": 25,
   "metadata": {},
   "outputs": [],
   "source": [
    "import matplotlib.pyplot as plt\n",
    "\n",
    "def draw_tran_hist(hist_list):\n",
    "    for i,hist in enumerate(hist_list):\n",
    "        plt.plot(hist,label=f'loss{i}')\n",
    "    plt.legend()\n",
    "    plt.xlabel('epoch')\n",
    "    plt.ylabel('loss')\n",
    "    plt.title('Train loss')\n",
    "    plt.show()"
   ]
  },
  {
   "cell_type": "code",
   "execution_count": 26,
   "metadata": {},
   "outputs": [
    {
     "data": {
      "image/png": "[encoded data removed]",
      "text/plain": [
       "<Figure size 640x480 with 1 Axes>"
      ]
     },
     "metadata": {},
     "output_type": "display_data"
    }
   ],
   "source": [
    "draw_tran_hist(train_hists)"
   ]
  }
 ],
 "metadata": {
  "kernelspec": {
   "display_name": "py312",
   "language": "python",
   "name": "python3"
  },
  "language_info": {
   "codemirror_mode": {
    "name": "ipython",
    "version": 3
   },
   "file_extension": ".py",
   "mimetype": "text/x-python",
   "name": "python",
   "nbconvert_exporter": "python",
   "pygments_lexer": "ipython3",
   "version": "3.12.8"
  }
 },
 "nbformat": 4,
 "nbformat_minor": 2
}
