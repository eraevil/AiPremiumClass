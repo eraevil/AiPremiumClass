{
 "cells": [
  {
   "cell_type": "markdown",
   "id": "82321ac0",
   "metadata": {},
   "source": [
    "### "
   ]
  },
  {
   "cell_type": "markdown",
   "id": "f48c5f03",
   "metadata": {},
   "source": [
    "#### 数据加载"
   ]
  },
  {
   "cell_type": "code",
   "execution_count": 1,
   "id": "0399a5e0",
   "metadata": {},
   "outputs": [
    {
     "name": "stderr",
     "output_type": "stream",
     "text": [
      "2125056it [00:09, 230803.19it/s]\n"
     ]
    },
    {
     "data": {
      "text/plain": [
       "1125540"
      ]
     },
     "execution_count": 1,
     "metadata": {},
     "output_type": "execute_result"
    }
   ],
   "source": [
    "import csv\n",
    "from tqdm import tqdm\n",
    "\n",
    "pos_cnt, neg_cnt = 0,0\n",
    "ds_comments, labels = [],[]\n",
    "\n",
    "with open('DMSC.csv') as f:\n",
    "    reader = csv.DictReader(f) \n",
    "    for item in tqdm(reader):\n",
    "        ds_comment = item['Comment']\n",
    "        Star = int(item['Star'])\n",
    "        if Star in [1, 2, 4, 5] and 15 <= len(ds_comment) <= 150:\n",
    "            ds_comments.append(ds_comment)\n",
    "            labels.append(1 if Star <= 2 else 0 if Star >=4 else -1)  # 1 正样本 0 负样本  \n",
    "\n",
    "len(ds_comments)"
   ]
  },
  {
   "cell_type": "markdown",
   "id": "d8ecc893",
   "metadata": {},
   "source": [
    "#### 分析评论长度，考虑截取过长，过短评论"
   ]
  },
  {
   "cell_type": "code",
   "execution_count": 2,
   "id": "a6778254",
   "metadata": {},
   "outputs": [
    {
     "data": {
      "image/png": "[encoded data removed]",
      "text/plain": [
       "<Figure size 640x480 with 1 Axes>"
      ]
     },
     "metadata": {},
     "output_type": "display_data"
    }
   ],
   "source": [
    "import matplotlib.pyplot as plt\n",
    "\n",
    "comments_len = [len(c) for c in ds_comments]\n",
    "plt.hist(comments_len, bins=100)\n",
    "plt.show()"
   ]
  },
  {
   "cell_type": "code",
   "execution_count": 3,
   "id": "f8dcd992",
   "metadata": {},
   "outputs": [
    {
     "data": {
      "text/plain": [
       "<function matplotlib.pyplot.show(close=None, block=None)>"
      ]
     },
     "execution_count": 3,
     "metadata": {},
     "output_type": "execute_result"
    },
    {
     "data": {
      "image/png": "[encoded data removed]",
      "text/plain": [
       "<Figure size 640x480 with 1 Axes>"
      ]
     },
     "metadata": {},
     "output_type": "display_data"
    }
   ],
   "source": [
    "plt.boxplot(comments_len)\n",
    "plt.show"
   ]
  },
  {
   "cell_type": "code",
   "execution_count": 4,
   "id": "e43b2cb0",
   "metadata": {},
   "outputs": [],
   "source": [
    "# 筛选无关标点符号、格式控制符号\n",
    "ds_comments = [c.replace('。',' ').replace('，',' ')  for c in ds_comments]"
   ]
  },
  {
   "cell_type": "code",
   "execution_count": 7,
   "id": "358e04ae",
   "metadata": {},
   "outputs": [
    {
     "name": "stderr",
     "output_type": "stream",
     "text": [
      "Building prefix dict from the default dictionary ...\n",
      "Dumping model to file cache /var/folders/p2/1gz8kxnn1fzfxp0jm2f0jr5c0000gn/T/jieba.cache\n",
      "Loading model cost 0.841 seconds.\n",
      "Prefix dict has been built successfully.\n"
     ]
    }
   ],
   "source": [
    "# jieba 分词\n",
    "import jieba\n",
    "ds_comments_jieba = [' '.join(jieba.cut(comment)) for comment in ds_comments]"
   ]
  },
  {
   "cell_type": "code",
   "execution_count": 8,
   "id": "66472ae1",
   "metadata": {},
   "outputs": [
    {
     "data": {
      "text/plain": [
       "['  非常 失望   剧本 完全 敷衍了事   主线 剧情 没 突破 大家 可以 理解   可 所有 的 人物 都 缺乏 动机   正邪 之间 、 妇联 内部 都 没什么 火花   团结 - 分裂 - 团结 的 三段式 虽然 老套 但 其实 也 可以 利用 积攒 下来 的 形象 魅力 搞 出 意思   但 剧本 写得 非常 肤浅 、 平面   场面 上 调度 混乱 呆板   满屏 的 铁甲 审美疲劳   只有 笑 点算 得 上 差强人意  ',\n",
       " '  2015 年度 最 失望 作品   以为 面面俱到   实则 画蛇添足 ； 以为 主题深刻   实则 老调重弹 ； 以为 推陈出新   实则 俗不可耐 ； 以为 场面 很 high   实则 high 劲 不足   气 ！ 上 一集 的 趣味 全无   这集 的 笑 点 明显 刻意 到 心虚   全片 没有 任何 片段 给 我 有 紧张 激动 的 时候   太弱 了   跟 奥创 一样  ',\n",
       " '  《 铁人 2 》 中 勾引 钢铁 侠   《 妇联 1 》 中 勾引 鹰眼   《 美队 2 》 中 勾引 美国 队长   在 《 妇联 2 》 中 终于 … … 跟 绿巨人 表白 了   黑寡妇 用 实际行动 告诉 了 我们 什么 叫 忠贞不二 ； 而且 为了 治疗 不孕 不育 连 作战 武器 都 变成 了 两支 验孕 棒 ( 坚决 相信 快银 没有 死   后面 还 得 回来 )',\n",
       " '  虽然 从头 打到 尾   但是 真的 很 无聊 啊  ',\n",
       " '  只有 一颗 彩蛋 必须 降一星   外加 漫威 的 编剧 是 有心无力 了 吧   复仇者 联盟 只能 永远 着手 与 团队 的 和 与 不 和   这种 东西 重复 到 第二次 就是 隔 了 三年   还是 心有余而力不足 吧   只好 来 三个 新 成员   但是 认真 地   有 必要 加 一条 家庭 线 么 ？ 妇联 以后 也 是 要 走 赛车 帮 的   we   are   familly   路线 ？ ？ ？',\n",
       " '  “ 一个 没有 黑暗面 的 人 不 值得 信任   ”   第二部 剥去 冗长 的 铺垫   开场 即 高潮 、 一直 到 结束   会 有人 觉得 只 剩 动作 特技   不过 我 还 蛮 吃 这 一套   联盟 阵营 “ 葫芦兄弟 、 八仙过海 ” 式 各显神通 依然 燃爆 ； “ 我 有 更好 的 理由 不再 生气 ” 绿巨黑 寡激萌 的 感情 支线 ； 快银 兄妹 的 同情 牌 … 4.27 @ 台北 日新 威秀 影城',\n",
       " '  请漫威 华丽 地滚出 电影界 ！ 每年 都 炮制 出 几部 毫无 营养 千篇一律 的 流水线 电影 骗 票房   刺激 各种 投机 并 扼杀 原创 电影 的 热情   简直 就是 电影业 的 祸害 和 毒瘤 ！',\n",
       " '  承认 这货 很烂 很难 吗 ？ 混乱 的 节奏   人人 都 可能 冒出来 即兴 插一腿   糟糕 的 3D 也 是 毫无 必要   就 连 特效 大 场面 都 没有 什么 令人 惊艳 的 地方   其实 这些 都 不 重要 了   我 只 想 知道 一点   黑寡妇 下 一部 的 时候 会 跟 哪位 队友 搞 暧昧 ？ 这种 “ 白痴 专供 ” 片子 如今 算是 彻底 找到 自己 的 死忠 了   漫威 可以 继续 一招 鲜吃遍 天 了   ★ ★',\n",
       " '  什么 破烂 反派   毫无 戏剧 冲突 能 消耗 两个 多 小时 生命   还 强加 爱情 戏   脑 残片 好 圈钱 倒 是 真的  ',\n",
       " '  总体 来说 没有 达到 第一部 想 让 人 立马 二刷 的 体验   搞笑 和 燃度 都 有 就是 不够 劲   应 了 续集 电影 的 疲软 定律   出场 人物 多到 让 人 眼花撩乱   不过 依然 个个 鲜明   Jarvis 和 Vison 合体 很 惊艳   双胞胎 戏份 不 多   widow 和浩克 的 感情 戏是 最 柔软 的 时刻   奥创 存在 感 略低   妇联 内斗戏 不够 激烈   队长 脏话 雷神 锤子 笑话 贯穿 始终  ']"
      ]
     },
     "execution_count": 8,
     "metadata": {},
     "output_type": "execute_result"
    }
   ],
   "source": [
    "ds_comments_jieba[:10]"
   ]
  },
  {
   "cell_type": "code",
   "execution_count": 5,
   "id": "e456cfa5",
   "metadata": {},
   "outputs": [
    {
     "name": "stderr",
     "output_type": "stream",
     "text": [
      "sentencepiece_trainer.cc(78) LOG(INFO) Starts training with : \n",
      "trainer_spec {\n",
      "  input: ds_comments.txt\n",
      "  input_format: \n",
      "  model_prefix: ds_spm_model\n",
      "  model_type: UNIGRAM\n",
      "  vocab_size: 5000\n",
      "  self_test_sample_size: 0\n",
      "  character_coverage: 0.9995\n",
      "  input_sentence_size: 0\n",
      "  shuffle_input_sentence: 1\n",
      "  seed_sentencepiece_size: 1000000\n",
      "  shrinking_factor: 0.75\n",
      "  max_sentence_length: 4192\n",
      "  num_threads: 16\n",
      "  num_sub_iterations: 2\n",
      "  max_sentencepiece_length: 16\n",
      "  split_by_unicode_script: 1\n",
      "  split_by_number: 1\n",
      "  split_by_whitespace: 1\n",
      "  split_digits: 0\n",
      "  pretokenization_delimiter: \n",
      "  treat_whitespace_as_suffix: 0\n",
      "  allow_whitespace_only_pieces: 0\n",
      "  required_chars: \n",
      "  byte_fallback: 0\n",
      "  vocabulary_output_piece_score: 1\n",
      "  train_extremely_large_corpus: 0\n",
      "  seed_sentencepieces_file: \n",
      "  hard_vocab_limit: 1\n",
      "  use_all_vocab: 0\n",
      "  unk_id: 0\n",
      "  bos_id: 1\n",
      "  eos_id: 2\n",
      "  pad_id: -1\n",
      "  unk_piece: <unk>\n",
      "  bos_piece: <s>\n",
      "  eos_piece: </s>\n",
      "  pad_piece: <pad>\n",
      "  unk_surface:  ⁇ \n",
      "  enable_differential_privacy: 0\n",
      "  differential_privacy_noise_level: 0\n",
      "  differential_privacy_clipping_threshold: 0\n",
      "}\n",
      "normalizer_spec {\n",
      "  name: nmt_nfkc\n",
      "  add_dummy_prefix: 1\n",
      "  remove_extra_whitespaces: 1\n",
      "  escape_whitespaces: 1\n",
      "  normalization_rule_tsv: \n",
      "}\n",
      "denormalizer_spec {}\n",
      "trainer_interface.cc(353) LOG(INFO) SentenceIterator is not specified. Using MultiFileSentenceIterator.\n",
      "trainer_interface.cc(185) LOG(INFO) Loading corpus: ds_comments.txt\n",
      "trainer_interface.cc(147) LOG(INFO) Loaded 1000000 lines\n",
      "trainer_interface.cc(124) LOG(WARNING) Too many sentences are loaded! (1129940), which may slow down training.\n",
      "trainer_interface.cc(126) LOG(WARNING) Consider using --input_sentence_size=<size> and --shuffle_input_sentence=true.\n",
      "trainer_interface.cc(129) LOG(WARNING) They allow to randomly sample <size> sentences from the entire corpus.\n",
      "trainer_interface.cc(409) LOG(INFO) Loaded all 1129940 sentences\n",
      "trainer_interface.cc(425) LOG(INFO) Adding meta_piece: <unk>\n",
      "trainer_interface.cc(425) LOG(INFO) Adding meta_piece: <s>\n",
      "trainer_interface.cc(425) LOG(INFO) Adding meta_piece: </s>\n",
      "trainer_interface.cc(430) LOG(INFO) Normalizing sentences...\n",
      "trainer_interface.cc(539) LOG(INFO) all chars count=57310555\n",
      "trainer_interface.cc(550) LOG(INFO) Done: 99.95% characters are covered.\n",
      "trainer_interface.cc(560) LOG(INFO) Alphabet size=4774\n",
      "trainer_interface.cc(561) LOG(INFO) Final character coverage=0.9995\n",
      "trainer_interface.cc(592) LOG(INFO) Done! preprocessed 1129864 sentences.\n",
      "unigram_model_trainer.cc(265) LOG(INFO) Making suffix array...\n",
      "unigram_model_trainer.cc(269) LOG(INFO) Extracting frequent sub strings... node_num=16947764\n",
      "unigram_model_trainer.cc(312) LOG(INFO) Initialized 1004774 seed sentencepieces\n",
      "trainer_interface.cc(598) LOG(INFO) Tokenizing input sentences with whitespace: 1129864\n",
      "trainer_interface.cc(609) LOG(INFO) Done! 3931636\n",
      "unigram_model_trainer.cc(602) LOG(INFO) Using 3931636 sentences for EM training\n",
      "unigram_model_trainer.cc(618) LOG(INFO) EM sub_iter=0 size=750751 obj=44.0048 num_tokens=17356662 num_tokens/piece=23.1191\n",
      "unigram_model_trainer.cc(618) LOG(INFO) EM sub_iter=1 size=652076 obj=41.3938 num_tokens=17470202 num_tokens/piece=26.7917\n",
      "unigram_model_trainer.cc(618) LOG(INFO) EM sub_iter=0 size=488885 obj=41.3851 num_tokens=17703537 num_tokens/piece=36.2121\n",
      "unigram_model_trainer.cc(618) LOG(INFO) EM sub_iter=1 size=488328 obj=41.3161 num_tokens=17732687 num_tokens/piece=36.3131\n",
      "unigram_model_trainer.cc(618) LOG(INFO) EM sub_iter=0 size=366241 obj=41.5149 num_tokens=18103267 num_tokens/piece=49.4299\n",
      "unigram_model_trainer.cc(618) LOG(INFO) EM sub_iter=1 size=366236 obj=41.4198 num_tokens=18116032 num_tokens/piece=49.4655\n",
      "unigram_model_trainer.cc(618) LOG(INFO) EM sub_iter=0 size=274677 obj=41.7878 num_tokens=18653356 num_tokens/piece=67.9101\n",
      "unigram_model_trainer.cc(618) LOG(INFO) EM sub_iter=1 size=274676 obj=41.6347 num_tokens=18667212 num_tokens/piece=67.9608\n",
      "unigram_model_trainer.cc(618) LOG(INFO) EM sub_iter=0 size=206007 obj=42.1217 num_tokens=19277744 num_tokens/piece=93.5781\n",
      "unigram_model_trainer.cc(618) LOG(INFO) EM sub_iter=1 size=206007 obj=41.9353 num_tokens=19296275 num_tokens/piece=93.6681\n",
      "unigram_model_trainer.cc(618) LOG(INFO) EM sub_iter=0 size=154505 obj=42.5091 num_tokens=19933858 num_tokens/piece=129.018\n",
      "unigram_model_trainer.cc(618) LOG(INFO) EM sub_iter=1 size=154505 obj=42.3154 num_tokens=19960682 num_tokens/piece=129.191\n",
      "unigram_model_trainer.cc(618) LOG(INFO) EM sub_iter=0 size=115878 obj=42.9745 num_tokens=20636898 num_tokens/piece=178.092\n",
      "unigram_model_trainer.cc(618) LOG(INFO) EM sub_iter=1 size=115878 obj=42.7726 num_tokens=20652725 num_tokens/piece=178.228\n",
      "unigram_model_trainer.cc(618) LOG(INFO) EM sub_iter=0 size=86908 obj=43.5085 num_tokens=21389839 num_tokens/piece=246.12\n",
      "unigram_model_trainer.cc(618) LOG(INFO) EM sub_iter=1 size=86908 obj=43.2979 num_tokens=21402441 num_tokens/piece=246.265\n",
      "unigram_model_trainer.cc(618) LOG(INFO) EM sub_iter=0 size=65181 obj=44.1194 num_tokens=22191258 num_tokens/piece=340.456\n",
      "unigram_model_trainer.cc(618) LOG(INFO) EM sub_iter=1 size=65181 obj=43.8997 num_tokens=22214912 num_tokens/piece=340.819\n",
      "unigram_model_trainer.cc(618) LOG(INFO) EM sub_iter=0 size=48885 obj=44.8288 num_tokens=23081446 num_tokens/piece=472.158\n",
      "unigram_model_trainer.cc(618) LOG(INFO) EM sub_iter=1 size=48885 obj=44.5895 num_tokens=23094023 num_tokens/piece=472.415\n",
      "unigram_model_trainer.cc(618) LOG(INFO) EM sub_iter=0 size=36663 obj=45.6078 num_tokens=24040765 num_tokens/piece=655.723\n",
      "unigram_model_trainer.cc(618) LOG(INFO) EM sub_iter=1 size=36663 obj=45.3516 num_tokens=24056626 num_tokens/piece=656.155\n",
      "unigram_model_trainer.cc(618) LOG(INFO) EM sub_iter=0 size=27497 obj=46.4956 num_tokens=25097135 num_tokens/piece=912.723\n",
      "unigram_model_trainer.cc(618) LOG(INFO) EM sub_iter=1 size=27497 obj=46.2153 num_tokens=25108487 num_tokens/piece=913.136\n",
      "unigram_model_trainer.cc(618) LOG(INFO) EM sub_iter=0 size=20622 obj=47.5254 num_tokens=26325442 num_tokens/piece=1276.57\n",
      "unigram_model_trainer.cc(618) LOG(INFO) EM sub_iter=1 size=20622 obj=47.2006 num_tokens=26329798 num_tokens/piece=1276.78\n",
      "unigram_model_trainer.cc(618) LOG(INFO) EM sub_iter=0 size=15466 obj=48.7387 num_tokens=27717141 num_tokens/piece=1792.13\n",
      "unigram_model_trainer.cc(618) LOG(INFO) EM sub_iter=1 size=15466 obj=48.3699 num_tokens=27725308 num_tokens/piece=1792.66\n",
      "unigram_model_trainer.cc(618) LOG(INFO) EM sub_iter=0 size=11599 obj=50.2555 num_tokens=29453348 num_tokens/piece=2539.3\n",
      "unigram_model_trainer.cc(618) LOG(INFO) EM sub_iter=1 size=11599 obj=49.7944 num_tokens=29486670 num_tokens/piece=2542.17\n",
      "unigram_model_trainer.cc(618) LOG(INFO) EM sub_iter=0 size=8699 obj=52.3068 num_tokens=31748394 num_tokens/piece=3649.66\n",
      "unigram_model_trainer.cc(618) LOG(INFO) EM sub_iter=1 size=8699 obj=51.6872 num_tokens=31777231 num_tokens/piece=3652.98\n",
      "unigram_model_trainer.cc(618) LOG(INFO) EM sub_iter=0 size=6524 obj=55.6642 num_tokens=35365613 num_tokens/piece=5420.85\n",
      "unigram_model_trainer.cc(618) LOG(INFO) EM sub_iter=1 size=6524 obj=54.6206 num_tokens=35366071 num_tokens/piece=5420.92\n",
      "unigram_model_trainer.cc(618) LOG(INFO) EM sub_iter=0 size=5500 obj=58.8551 num_tokens=38961373 num_tokens/piece=7083.89\n",
      "unigram_model_trainer.cc(618) LOG(INFO) EM sub_iter=1 size=5500 obj=57.7863 num_tokens=38961559 num_tokens/piece=7083.92\n",
      "trainer_interface.cc(687) LOG(INFO) Saving model: ds_spm_model.model\n",
      "trainer_interface.cc(699) LOG(INFO) Saving vocabs: ds_spm_model.vocab\n"
     ]
    }
   ],
   "source": [
    "# sentencepiec 分词\n",
    "import sentencepiece as spm\n",
    "sp = spm.SentencePieceProcessor()\n",
    "\n",
    "with open('ds_comments.txt', 'w', encoding='utf-8') as f:\n",
    "    for cmt in ds_comments:\n",
    "        f.write(cmt + '\\n')\n",
    "\n",
    "# 分词模型训练\n",
    "spm.SentencePieceTrainer.Train(\n",
    "    input='ds_comments.txt', model_prefix='ds_spm_model', vocab_size=5000,)"
   ]
  },
  {
   "cell_type": "code",
   "execution_count": null,
   "id": "328962aa",
   "metadata": {},
   "outputs": [],
   "source": [
    "# 读取分词模型\n",
    "sp.Load('ds_spm_model.model')\n",
    "# 分词\n",
    "ds_comments_spm = []\n",
    "for c in ds_comments:\n",
    "    cmt_spm = sp.EncodeAsPieces(c)\n",
    "    ds_comments_spm.append(' '.join(cmt_spm))"
   ]
  },
  {
   "cell_type": "code",
   "execution_count": 10,
   "id": "8e759595",
   "metadata": {},
   "outputs": [
    {
     "data": {
      "text/plain": [
       "['▁ 非常 失望 ▁ 剧 本 完全 敷 衍 了 事 ▁ 主 线 剧情 没 突 破 大家 可以 理 解 ▁ 可 所有 的 人物 都 缺 乏 动 机 ▁ 正 邪 之 间 、 妇 联 内 部 都 没 什么 火 花 ▁ 团 结 - 分 裂 - 团 结 的 三 段 式 虽 然 老 套 但 其实 也 可以 利 用 积 攒 下 来 的 形 象 魅 力 搞 出 意 思 ▁但 剧 本 写 得 非常 肤 浅 、 平 面 ▁ 场面 上 调 度 混 乱 呆 板 ▁ 满 屏 的 铁 甲 审 美 疲 劳 ▁ 只有 笑点 算 得 上 差 强 人 意',\n",
       " '▁ 2 0 1 5 年 度 最 失望 作品 ▁ 以为 面 面 俱 到 ▁ 实 则 画 蛇 添 足 ; 以为 主 题 深 刻 ▁ 实 则 老 调 重 弹 ; 以为 推 陈 出 新 ▁ 实 则 俗 不 可 耐 ; 以为 场面 很 h i g h ▁ 实 则 h i g h 劲 不 足 ▁ 气 ! 上 一 集 的 趣 味 全 无 ▁这 集 的 笑点 明 显 刻 意 到 心 虚 ▁ 全 片 没有 任 何 片 段 给 我 有 紧 张 激 动 的时候 ▁ 太 弱 了 ▁ 跟 奥 创 一样',\n",
       " '▁ 《 铁 人 2 》 中 勾 引 钢 铁 侠 ▁ 《 妇 联 1 》 中 勾 引 鹰 眼 ▁ 《 美 队 2 》 中 勾 引 美 国 队 长 ▁ 在 《 妇 联 2 》 中 终于 ...... 跟 绿 巨 人 表 白 了 ▁ 黑 寡 妇 用 实 际 行 动 告 诉 了 我们 什么 叫 忠 贞 不 二 ; 而 且 为了 治 疗 不 孕 不 育 连 作 战 武 器 都 变 成 了 两 支 验 孕 棒 ( 坚 决 相 信 快 银 没有 死 ▁ 后 面 还 得 回 来 )',\n",
       " '▁虽然 从 头 打 到 尾 ▁但是 真的 很 无 聊 啊',\n",
       " '▁ 只有 一 颗 彩 蛋 必 须 降 一星 ▁ 外 加 漫 威 的 编 剧 是 有 心 无 力 了 吧 ▁ 复 仇 者 联 盟 只能 永 远 着 手 与 团 队 的 和 与 不 和 ▁ 这种 东西 重 复 到 第 二 次 就是 隔 了 三 年 ▁ 还是 心 有 余 而 力 不 足 吧 ▁ 只 好 来 三 个 新 成 员 ▁但是 认 真 地 ▁有 必 要 加 一 条 家 庭 线 么 ? 妇 联 以 后 也是 要 走 赛 车 帮 的 ▁ w e ▁ a r e ▁ f a m i l l y ▁ 路 线 ? ? ?',\n",
       " '▁ “ 一个 没有 黑 暗 面 的人 不 值得 信 任 ▁ ” ▁ 第 二 部 剥 去 冗 长 的 铺 垫 ▁ 开 场 即 高 潮 、 一直 到 结 束 ▁ 会 有 人 觉得 只 剩 动作 特 技 ▁不过 我 还 蛮 吃 这 一 套 ▁ 联 盟 阵 营 “ 葫 芦 兄 弟 、 八 仙 过 海 ” 式 各 显 神 通 依 然 燃 爆 ; “ 我 有 更 好 的 理 由 不 再 生 气 ” 绿 巨 黑 寡 激 萌 的 感 情 支 线 ; 快 银 兄 妹 的 同 情 牌 ... 4 . 2 7 @ 台 北 日 新 威 秀 影 城',\n",
       " '▁ 请 漫 威 华 丽 地 滚 出 电影 界 ! 每 年 都 炮 制 出 几 部 毫 无 营 养 千 篇 一 律 的 流 水 线 电影 骗 票 房 ▁ 刺 激 各种 投 机 并 扼 杀 原 创 电影 的 热 情 ▁ 简直 就是 电影 业 的 祸 害 和 毒 瘤 !',\n",
       " '▁ 承 认 这 货 很 烂 很 难 吗 ? 混 乱 的 节奏 ▁ 人 人 都 可能 冒 出来 即 兴 插 一 腿 ▁ 糟 糕 的 3 D 也是 毫 无 必 要 ▁ 就 连 特效 大 场面 都 没有 什么 令 人 惊 艳 的 地 方 ▁其实 这 些 都 不 重 要 了 ▁我 只 想 知道 一点 ▁ 黑 寡 妇 下 一部 的时候 会 跟 哪 位 队 友 搞 暧 昧 ? 这种 “ 白 痴 专 供 ” 片子 如 今 算是 彻 底 找 到 自己的 死 忠 了 ▁ 漫 威 可以 继 续 一 招 鲜 吃 遍 天 了 ▁ ★ ★',\n",
       " '▁ 什么 破 烂 反 派 ▁ 毫 无 戏 剧 冲 突 能 消 耗 两个 多 小 时 生 命 ▁ 还 强 加 爱情 戏 ▁ 脑 残 片 好 圈 钱 倒 是 真的',\n",
       " '▁ 总 体 来说 没有 达 到 第 一部 想 让人 立 马 二 刷 的 体 验 ▁ 搞笑 和 燃 度 都 有 就是 不 够 劲 ▁ 应 了 续 集 电影 的 疲 软 定 律 ▁ 出 场 人物 多 到 让人 眼 花 撩 乱 ▁不过 依 然 个 个 鲜 明 ▁ J a r v i s 和 V i s o n 合 体 很 惊 艳 ▁ 双 胞 胎 戏 份 不 多 ▁ w i d o w 和 浩 克 的 感 情 戏 是 最 柔 软 的 时 刻 ▁ 奥 创 存 在 感 略 低 ▁ 妇 联 内 斗 戏 不 够 激 烈 ▁ 队 长 脏 话 雷 神 锤 子 笑 话 贯 穿 始 终']"
      ]
     },
     "execution_count": 10,
     "metadata": {},
     "output_type": "execute_result"
    }
   ],
   "source": [
    "ds_comments_spm[:10]"
   ]
  },
  {
   "cell_type": "code",
   "execution_count": 11,
   "id": "04f7422f",
   "metadata": {},
   "outputs": [
    {
     "name": "stdout",
     "output_type": "stream",
     "text": [
      "语料处理保存完成！\n"
     ]
    }
   ],
   "source": [
    "import pickle\n",
    "\n",
    "with open('ds_comments_jieba.bin', 'wb') as f:\n",
    "    pickle.dump((ds_comments_jieba, labels), f)\n",
    "\n",
    "with open('ds_comments_spm.bin', 'wb') as f:\n",
    "    pickle.dump((ds_comments_spm, labels), f)\n",
    "\n",
    "print('语料处理保存完成！')\n"
   ]
  }
 ],
 "metadata": {
  "kernelspec": {
   "display_name": "py312",
   "language": "python",
   "name": "python3"
  },
  "language_info": {
   "codemirror_mode": {
    "name": "ipython",
    "version": 3
   },
   "file_extension": ".py",
   "mimetype": "text/x-python",
   "name": "python",
   "nbconvert_exporter": "python",
   "pygments_lexer": "ipython3",
   "version": "3.12.4"
  }
 },
 "nbformat": 4,
 "nbformat_minor": 5
}
