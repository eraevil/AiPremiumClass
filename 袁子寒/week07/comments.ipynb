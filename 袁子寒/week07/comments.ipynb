{
 "cells": [
  {
   "cell_type": "code",
   "execution_count": 36,
   "id": "a7b67f08",
   "metadata": {},
   "outputs": [],
   "source": [
    "import csv\n",
    "import jieba\n",
    "import pickle\n",
    "import sentencepiece as spm\n",
    "import pandas as pd"
   ]
  },
  {
   "cell_type": "code",
   "execution_count": null,
   "id": "c04d4b62",
   "metadata": {},
   "outputs": [
    {
     "name": "stdout",
     "output_type": "stream",
     "text": [
      "1650497\n"
     ]
    }
   ],
   "source": [
    "#jieba 分词\n",
    "comments = []\n",
    "with open(\"DMSC.csv\", 'r') as f:\n",
    "    reader = csv.DictReader(f)\n",
    "    for row in reader:                \n",
    "        star = int(row['Star'])\n",
    "        if star in [1, 2, 4, 5]:\n",
    "            words = jieba.lcut(row['Comment'])\n",
    "            comments.append((words, 1 if star<=2 else 0)) # 1=negative 0=positive\n",
    "print(len(comments))"
   ]
  },
  {
   "cell_type": "code",
   "execution_count": 36,
   "id": "b12d4f7c",
   "metadata": {},
   "outputs": [
    {
     "data": {
      "text/plain": [
       "<function matplotlib.pyplot.show(close=None, block=None)>"
      ]
     },
     "execution_count": 36,
     "metadata": {},
     "output_type": "execute_result"
    },
    {
     "data": {
      "image/png": "[encoded data removed]",
      "text/plain": [
       "<Figure size 640x480 with 1 Axes>"
      ]
     },
     "metadata": {},
     "output_type": "display_data"
    }
   ],
   "source": [
    "import matplotlib.pyplot as plt\n",
    "\n",
    "comments_len = [len(c) for c,_ in comments]\n",
    "plt.boxplot(comments_len)\n",
    "plt.show"
   ]
  },
  {
   "cell_type": "code",
   "execution_count": 37,
   "id": "ce645298",
   "metadata": {},
   "outputs": [
    {
     "name": "stdout",
     "output_type": "stream",
     "text": [
      "1130977\n"
     ]
    }
   ],
   "source": [
    "c_comments = [c for c in comments if len(c[0]) in range(10, 130)]\n",
    "print(len(c_comments))"
   ]
  },
  {
   "cell_type": "code",
   "execution_count": null,
   "id": "b6232169",
   "metadata": {},
   "outputs": [],
   "source": [
    "with open('jieba_comments.pkl', 'wb') as f:\n",
    "    pickle.dump(c_comments, f)"
   ]
  },
  {
   "cell_type": "code",
   "execution_count": null,
   "id": "c102529c",
   "metadata": {},
   "outputs": [],
   "source": [
    "# sentencePiece\n",
    "df = pd.read_csv(\"DMSC.csv\")\n",
    "df[\"Star\"] = df[\"Star\"].astype(int)\n",
    "df = df[df[\"Star\"].isin([1,2,4,5])]\n",
    "df = df[[\"Comment\"]].dropna()\n",
    "df['Comment'].astype(str).to_csv(\"comments.txt\", index=False, header=False)"
   ]
  },
  {
   "cell_type": "code",
   "execution_count": 40,
   "id": "7c782519",
   "metadata": {},
   "outputs": [],
   "source": [
    "spm.SentencePieceTrainer.train(\n",
    "    input='comments.txt',\n",
    "    model_prefix='spm',\n",
    "    vocab_size=10000,\n",
    "    character_coverage=0.9995,\n",
    ")"
   ]
  },
  {
   "cell_type": "code",
   "execution_count": 37,
   "id": "a2002d75",
   "metadata": {},
   "outputs": [],
   "source": [
    "sp = spm.SentencePieceProcessor()\n",
    "sp.load(\"spm.model\")\n",
    "comments_spm = []\n",
    "with open(\"DMSC.csv\", 'r') as f:\n",
    "    reader = csv.DictReader(f)\n",
    "    for row in reader:\n",
    "        star = int(row['Star'])\n",
    "        if star in [1, 2, 4, 5]:\n",
    "            words = sp.encode(row[\"Comment\"], out_type=int)\n",
    "            comments_spm.append((words, 1 if star<=2 else 0)) # 1=negative 0=positive\n",
    "# 保存为 pickle\n",
    "with open(\"spm_vocab.pkl\", \"wb\") as f:\n",
    "    pickle.dump(comments_spm, f)\n"
   ]
  },
  {
   "cell_type": "markdown",
   "id": "45574435",
   "metadata": {},
   "source": [
    "# jieba"
   ]
  },
  {
   "cell_type": "code",
   "execution_count": 29,
   "id": "54fe8d84",
   "metadata": {},
   "outputs": [],
   "source": [
    "import torch\n",
    "import torch.nn as nn\n",
    "from torch.utils.data import DataLoader\n",
    "from torch.nn.utils.rnn import pad_sequence\n",
    "from torch.utils.tensorboard import SummaryWriter\n",
    "from tqdm import tqdm"
   ]
  },
  {
   "cell_type": "code",
   "execution_count": 3,
   "id": "c5657560",
   "metadata": {},
   "outputs": [],
   "source": [
    "class Comments_Classifier(nn.Module):\n",
    "    def __init__(self, vocab_size, embedding_dim, hidden_size, num_classes):\n",
    "        super().__init__()\n",
    "        self.embedding = nn.Embedding(vocab_size, embedding_dim, padding_idx=0)\n",
    "        self.rnn = nn.LSTM(embedding_dim, hidden_size, batch_first=True)\n",
    "        self.fc = nn.Linear(hidden_size, num_classes)\n",
    "\n",
    "    def forward(self, input_ids):\n",
    "        embedded = self.embedding(input_ids)\n",
    "        # output: (batch_size, seq_len, hidden_size)\n",
    "        output, _ = self.rnn(embedded)\n",
    "        output = self.fc(output[:, -1, :])  # 取最后一个时间步的输出\n",
    "        return output"
   ]
  },
  {
   "cell_type": "code",
   "execution_count": 4,
   "id": "d9f9b4dc",
   "metadata": {},
   "outputs": [],
   "source": [
    "# build vocab (jieba)\n",
    "def build_from_doc(doc):\n",
    "    vocab_set = set()\n",
    "    for line in doc:\n",
    "        vocab_set.update(line[0])\n",
    "\n",
    "    vocab_list =  ['PAD','UNK'] + list(vocab_set)  # PAD: padding, UNK: unknown\n",
    "    vocab = {word: idx for idx, word in enumerate(vocab_list)}\n",
    "    return vocab"
   ]
  },
  {
   "cell_type": "code",
   "execution_count": 5,
   "id": "69897918",
   "metadata": {},
   "outputs": [],
   "source": [
    "with open('jieba_comments.pkl','rb') as f:\n",
    "    comments_data = pickle.load(f)\n",
    "    f.close()\n",
    "# label_set = set([label for _, label in comments_data])\n",
    "# print(\"标签值集合：\", label_set)    \n",
    "vocab = build_from_doc(comments_data)\n"
   ]
  },
  {
   "cell_type": "code",
   "execution_count": 25,
   "id": "7bb5f7fa",
   "metadata": {},
   "outputs": [],
   "source": [
    "# 自定义数据转换方法(callback function)回调函数\n",
    "# 该函数会在每个batch数据加载时被调用\n",
    "def convert_data_jieba(batch_data):\n",
    "    comments, votes = [],[]\n",
    "    # 分别提取评论和标签\n",
    "    for comment, vote in batch_data:\n",
    "        token_ids = [vocab.get(word, vocab['UNK']) for word in comment]\n",
    "        # for idx in token_ids:\n",
    "        #     assert 0 <= idx < len(vocab), f\"ID 越界: {idx} >= vocab_size={len(vocab)}\"\n",
    "        comments.append(torch.tensor(token_ids))\n",
    "        # comments.append(torch.tensor([vocab.get(word, vocab['UNK']) for word in comment]))\n",
    "        votes.append(vote)\n",
    "    # 将评论和标签转换为tensor\n",
    "    # print(\"标签 unique:\", set(votes))\n",
    "    comment = pad_sequence(comments, batch_first=True, padding_value=vocab['PAD'])  # 填充为相同长度\n",
    "    labels = torch.tensor(votes).long()\n",
    "    # 返回评论和标签\n",
    "    return comment, labels"
   ]
  },
  {
   "cell_type": "code",
   "execution_count": 31,
   "id": "c0d347de",
   "metadata": {},
   "outputs": [],
   "source": [
    "def train_process(model, dataloader, tag = 'jieba'):\n",
    "    writer = SummaryWriter(f'runs/{tag}')\n",
    "    device = torch.device('cuda' if torch.cuda.is_available() else 'cpu')\n",
    "    # device = torch.device('cpu')\n",
    "    model.to(device)\n",
    "    # 定义损失函数和优化器\n",
    "    criterion = nn.CrossEntropyLoss()\n",
    "    optimizer = torch.optim.Adam(model.parameters(), lr=0.001)\n",
    "    # 训练模型\n",
    "    num_epochs = 3\n",
    "    for epoch in range(num_epochs):\n",
    "        loop = tqdm(enumerate(dataloader), total=len(dataloader), desc=f\"Epoch {epoch+1}/{num_epochs}\")\n",
    "        for i, (cmt, lbl) in loop:\n",
    "            cmt = cmt.to(device)\n",
    "            lbl = lbl.to(device)\n",
    "\n",
    "            # 前向传播\n",
    "            outputs = model(cmt)\n",
    "            loss = criterion(outputs, lbl)\n",
    "\n",
    "            # 反向传播和优化\n",
    "            optimizer.zero_grad()\n",
    "            loss.backward()\n",
    "            optimizer.step()\n",
    "            loop.set_postfix(loss=loss.item())    \n",
    "            if (i+1) % 100 == 0:\n",
    "                writer.add_scalar('Loss/train', loss.item(), epoch * len(dataloader) + i)\n",
    "                # print(f'Epoch [{epoch+1}/{num_epochs}], Step [{i+1}/{len(dataloader)}], Loss: {loss.item():.4f}')\n",
    "\n"
   ]
  },
  {
   "cell_type": "code",
   "execution_count": 32,
   "id": "92c0297d",
   "metadata": {},
   "outputs": [],
   "source": [
    "model_jieba = Comments_Classifier(vocab_size=len(vocab)+1, embedding_dim=100,\n",
    "                                   hidden_size=64, num_classes=2)\n",
    "dataloader_jieba = DataLoader(comments_data, batch_size=256, shuffle=True, collate_fn=convert_data_jieba)"
   ]
  },
  {
   "cell_type": "code",
   "execution_count": 33,
   "id": "1decd0b0",
   "metadata": {},
   "outputs": [
    {
     "name": "stderr",
     "output_type": "stream",
     "text": [
      "Epoch 1/3: 100%|██████████| 4418/4418 [01:43<00:00, 42.64it/s, loss=0.176]\n",
      "Epoch 2/3: 100%|██████████| 4418/4418 [01:43<00:00, 42.68it/s, loss=0.174] \n",
      "Epoch 3/3: 100%|██████████| 4418/4418 [01:44<00:00, 42.40it/s, loss=0.195] \n"
     ]
    }
   ],
   "source": [
    "train_process(model=model_jieba, dataloader=dataloader_jieba)\n",
    "# 保存模型\n",
    "torch.save(model_jieba.state_dict(), 'comments_jieba.pth')\n",
    "# 模型词典\n",
    "torch.save(vocab, 'comments_jieba_vocab.pth')"
   ]
  },
  {
   "cell_type": "markdown",
   "id": "b269e478",
   "metadata": {},
   "source": [
    "# sq"
   ]
  },
  {
   "cell_type": "code",
   "execution_count": 38,
   "id": "011c0f0a",
   "metadata": {},
   "outputs": [
    {
     "name": "stdout",
     "output_type": "stream",
     "text": [
      "([3499, 2613, 73, 379, 459, 6, 641, 317, 317, 6033, 44, 3, 784, 1671, 989, 4922, 4902, 1028, 214, 641, 747, 723, 3, 784, 1671, 174, 1029, 347, 1721, 214, 641, 1606, 2580, 79, 274, 3, 784, 1671, 838, 1419, 2660, 214, 641, 387, 25, 5002, 3, 784, 1671, 5002, 1414, 853, 6, 327, 8, 36, 31, 693, 5, 5028, 292, 121, 3, 39, 693, 1697, 914, 1397, 44, 101, 1629, 6, 819, 3830, 2360, 874, 12, 1401, 1627, 130, 3, 3239, 7, 3, 154, 3587, 216, 6], 1)\n",
      "['▁2015', '年度', '最', '失望', '作品', '。', '以为', '面', '面', '俱', '到', ',', '实', '则', '画', '蛇', '添', '足', ';', '以为', '主题', '深刻', ',', '实', '则', '老', '调', '重', '弹', ';', '以为', '推', '陈', '出', '新', ',', '实', '则', '俗', '不可', '耐', ';', '以为', '场面', '很', 'high', ',', '实', '则', 'high', '劲', '不足', '。', '气', '!', '上', '一', '集', '的', '趣味', '全', '无', ',', '这', '集', '的笑点', '明显', '刻意', '到', '心', '虚', '。', '全片', '没有任何', '片段', '给我', '有', '紧张', '激动', '的时候', ',', '太弱', '了', ',', '跟', '奥创', '一样', '。']\n"
     ]
    }
   ],
   "source": [
    "with open('spm_vocab.pkl','rb') as f:\n",
    "    spm_comments = pickle.load(f)\n",
    "    print(spm_comments[1])\n",
    "    print(sp.id_to_piece(spm_comments[1][0]))\n",
    "    f.close()\n",
    "    "
   ]
  },
  {
   "cell_type": "code",
   "execution_count": 41,
   "id": "a3a5124e",
   "metadata": {},
   "outputs": [],
   "source": [
    "vocab_size = sp.get_piece_size()"
   ]
  },
  {
   "cell_type": "code",
   "execution_count": 46,
   "id": "d5438db4",
   "metadata": {},
   "outputs": [],
   "source": [
    "def convert_data_spm(batch_data):\n",
    "    comments, votes = [], []\n",
    "    for ids, label in batch_data:\n",
    "        comments.append(torch.tensor(ids).long())  # 已经是 int id 列表\n",
    "        votes.append(label)\n",
    "    comment = pad_sequence(comments, batch_first=True, padding_value=0)# 用0 padding\n",
    "    labels = torch.tensor(votes).long()\n",
    "    return comment, labels"
   ]
  },
  {
   "cell_type": "code",
   "execution_count": 47,
   "id": "ad3f2ce6",
   "metadata": {},
   "outputs": [],
   "source": [
    "model_spm = Comments_Classifier(vocab_size=vocab_size, embedding_dim=150,\n",
    "                                   hidden_size=128, num_classes=2)\n",
    "dataloader_spm = DataLoader(spm_comments, batch_size=256, shuffle=True, collate_fn=convert_data_spm)"
   ]
  },
  {
   "cell_type": "code",
   "execution_count": 48,
   "id": "8ac00f82",
   "metadata": {},
   "outputs": [
    {
     "name": "stderr",
     "output_type": "stream",
     "text": [
      "Epoch 1/3: 100%|██████████| 6448/6448 [02:56<00:00, 36.45it/s, loss=0.55] \n",
      "Epoch 2/3: 100%|██████████| 6448/6448 [03:21<00:00, 31.95it/s, loss=0.479]\n",
      "Epoch 3/3: 100%|██████████| 6448/6448 [03:21<00:00, 32.05it/s, loss=0.186]\n"
     ]
    }
   ],
   "source": [
    "train_process(model=model_spm, dataloader=dataloader_spm, tag='spm/complex')"
   ]
  },
  {
   "cell_type": "code",
   "execution_count": null,
   "id": "93fbb973",
   "metadata": {},
   "outputs": [],
   "source": []
  }
 ],
 "metadata": {
  "kernelspec": {
   "display_name": "aicuda",
   "language": "python",
   "name": "python3"
  },
  "language_info": {
   "codemirror_mode": {
    "name": "ipython",
    "version": 3
   },
   "file_extension": ".py",
   "mimetype": "text/x-python",
   "name": "python",
   "nbconvert_exporter": "python",
   "pygments_lexer": "ipython3",
   "version": "3.12.9"
  }
 },
 "nbformat": 4,
 "nbformat_minor": 5
}
