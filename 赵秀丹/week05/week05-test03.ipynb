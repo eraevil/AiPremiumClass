{
 "cells": [
  {
   "cell_type": "markdown",
   "metadata": {},
   "source": [
    "##第五周作业三：使用课堂示例cooking.stackexchange.txt,使用fasttext训练文本分类模型"
   ]
  },
  {
   "cell_type": "code",
   "execution_count": 1,
   "metadata": {},
   "outputs": [],
   "source": [
    "import fasttext\n",
    "import numpy as np\n"
   ]
  },
  {
   "cell_type": "code",
   "execution_count": 39,
   "metadata": {},
   "outputs": [],
   "source": [
    "model=fasttext.train_supervised('cooking.stackexchange.txt',epoch=50,dim=200)"
   ]
  },
  {
   "cell_type": "code",
   "execution_count": 40,
   "metadata": {},
   "outputs": [
    {
     "name": "stdout",
     "output_type": "stream",
     "text": [
      "(('__label__baking', '__label__bread', '__label__oven'), array([0.83757401, 0.10957107, 0.00657408]))\n",
      "(('__label__language', '__label__restaurant', '__label__barbecue'), array([0.27530873, 0.02890687, 0.02557573]))\n"
     ]
    }
   ],
   "source": [
    "##文本分类功能\n",
    "print(model.predict(\"Which baking dish is best to bake a banana bread ?\",k=3))\n",
    "\n",
    "print(model.predict(\"Whats the cooking method called where you bury the raw food in hot charcoal ashes?\",k=3))"
   ]
  }
 ],
 "metadata": {
  "kernelspec": {
   "display_name": "py311",
   "language": "python",
   "name": "python3"
  },
  "language_info": {
   "codemirror_mode": {
    "name": "ipython",
    "version": 3
   },
   "file_extension": ".py",
   "mimetype": "text/x-python",
   "name": "python",
   "nbconvert_exporter": "python",
   "pygments_lexer": "ipython3",
   "version": "3.11.11"
  }
 },
 "nbformat": 4,
 "nbformat_minor": 2
}
