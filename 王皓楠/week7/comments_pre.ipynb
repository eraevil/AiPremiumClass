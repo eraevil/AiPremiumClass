{
 "cells": [
  {
   "cell_type": "code",
   "execution_count": 1,
   "id": "388d6b99",
   "metadata": {},
   "outputs": [
    {
     "name": "stdout",
     "output_type": "stream",
     "text": [
      "e:\\AI\\pytorch_class\\week7\n",
      "1650497\n"
     ]
    }
   ],
   "source": [
    "import csv\n",
    "import jieba\n",
    "import os\n",
    "ds_comments=[]\n",
    "print(os.getcwd())\n",
    "with open('DMSC.csv',\"r\") as file:\n",
    "    reader=csv.DictReader(file);\n",
    "    for row in reader:\n",
    "        vote=int(row['Star'])\n",
    "        comment=row['Comment']\n",
    "        if(vote in [1,2,4,5]):\n",
    "            ds_comments.append((comment,1 if vote>=4 else 0))\n",
    "    \n",
    "print(len(ds_comments))"
   ]
  },
  {
   "cell_type": "code",
   "execution_count": 2,
   "id": "87246e84",
   "metadata": {},
   "outputs": [
    {
     "name": "stdout",
     "output_type": "stream",
     "text": [
      "48647\n"
     ]
    }
   ],
   "source": [
    "ds_comments=[c for c in ds_comments if len(c[0])in[10,150]]\n",
    "print(len(ds_comments))"
   ]
  },
  {
   "cell_type": "code",
   "execution_count": 3,
   "id": "8ec7c01e",
   "metadata": {},
   "outputs": [],
   "source": [
    "import pickle\n",
    "with open(\"douban_comment.pkl\",\"wb\") as file:\n",
    "    pickle.dump(ds_comments,file);"
   ]
  }
 ],
 "metadata": {
  "kernelspec": {
   "display_name": "py311",
   "language": "python",
   "name": "python3"
  },
  "language_info": {
   "codemirror_mode": {
    "name": "ipython",
    "version": 3
   },
   "file_extension": ".py",
   "mimetype": "text/x-python",
   "name": "python",
   "nbconvert_exporter": "python",
   "pygments_lexer": "ipython3",
   "version": "3.11.11"
  }
 },
 "nbformat": 4,
 "nbformat_minor": 5
}
