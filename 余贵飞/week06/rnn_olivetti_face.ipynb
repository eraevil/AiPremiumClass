{
 "cells": [
  {
   "metadata": {},
   "cell_type": "markdown",
   "source": "使用RNN 实现人脸图片分类",
   "id": "46bdd327bc3c62f3"
  },
  {
   "metadata": {
    "ExecuteTime": {
     "end_time": "2025-04-08T15:27:51.607501Z",
     "start_time": "2025-04-08T15:27:51.250495Z"
    }
   },
   "cell_type": "code",
   "source": [
    "# 导入相关依赖\n",
    "import torch\n",
    "import torch.nn as nn\n",
    "from charset_normalizer import models\n",
    "from sklearn.model_selection import train_test_split\n",
    "from sklearn.datasets import fetch_olivetti_faces\n",
    "from torch.utils.data import DataLoader, Dataset, TensorDataset\n",
    "import torch.optim as optim\n",
    "from torch.utils.tensorboard import SummaryWriter\n"
   ],
   "id": "2d50792357c2d887",
   "outputs": [],
   "execution_count": 16
  },
  {
   "metadata": {
    "ExecuteTime": {
     "end_time": "2025-04-08T15:27:53.196699Z",
     "start_time": "2025-04-08T15:27:53.194149Z"
    }
   },
   "cell_type": "code",
   "source": [
    "# 定义超参数\n",
    "EPOCHS = 200\n",
    "BATCH_SIZE = 32\n",
    "LR = 0.001\n"
   ],
   "id": "392468c0ff8a6cd4",
   "outputs": [],
   "execution_count": 17
  },
  {
   "metadata": {
    "ExecuteTime": {
     "end_time": "2025-04-08T16:54:17.687257Z",
     "start_time": "2025-04-08T16:54:17.650046Z"
    }
   },
   "cell_type": "code",
   "source": [
    "# 加载数据\n",
    "olivetti_faces = fetch_olivetti_faces(data_home=\"../dataset/olivettiFaces\")\n",
    "# 此处注意取 images 而非 data\n",
    "data, target = olivetti_faces.images, olivetti_faces.target\n",
    "# 划分训练集及测试集，并设置随机数种子，使用随机数种子确保代码每次运行时数据一致\n",
    "# stratify=olivetti_faces.target 按照target 维度对数据集进行分层采样，却表40个人的数据都会被采集到\n",
    "data_train, data_test, target_train, target_test = train_test_split(data, target, test_size=0.2, random_state=42, stratify=target)\n",
    "# 将特征数据与目标值结合在一起\n",
    "train_data_set = TensorDataset(torch.tensor(data_train, dtype=torch.float), torch.tensor(target_train, dtype=torch.long))\n",
    "test_data_set = TensorDataset(torch.tensor(data_test, dtype=torch.float), torch.tensor(target_test, dtype=torch.long))\n",
    "train_dataloader = DataLoader(train_data_set, batch_size=BATCH_SIZE, shuffle=True)\n",
    "test_dataloader = DataLoader(test_data_set, batch_size=BATCH_SIZE, shuffle=True)\n",
    "\n"
   ],
   "id": "b7304507146c249c",
   "outputs": [],
   "execution_count": 29
  },
  {
   "metadata": {
    "ExecuteTime": {
     "end_time": "2025-04-08T16:56:24.010729Z",
     "start_time": "2025-04-08T16:56:23.996956Z"
    }
   },
   "cell_type": "code",
   "source": [
    "# 定义RNN 模型\n",
    "model_list = {}\n",
    "rnn_model = nn.RNN(\n",
    "    # 输入特征数 64\n",
    "    input_size=len(olivetti_faces.images[0]),\n",
    "    # 隐藏状态特征数 128\n",
    "    hidden_size=128,\n",
    "    # 两层堆叠\n",
    "    num_layers=2,\n",
    "    # 设置第一维参数为批量（batch_size, sqe_len, feature）\n",
    "    batch_first=True,\n",
    "    # 添加偏置项\n",
    "    bias=True\n",
    ")\n",
    "\n",
    "# 定义GRU 模型\n",
    "gru_model = nn.GRU(\n",
    "    input_size=len(olivetti_faces.images[0]),\n",
    "    hidden_size=128,\n",
    "    num_layers=2,\n",
    "    batch_first=True,\n",
    "    bias=True\n",
    ")\n",
    "\n",
    "# 定义 LSTM 模型\n",
    "lstm_model = nn.LSTM(\n",
    "    input_size=len(olivetti_faces.images[0]),\n",
    "    hidden_size=128,\n",
    "    num_layers=2,\n",
    "    batch_first=True,\n",
    "    bias=True\n",
    ")\n",
    "\n",
    "# 定义 BiRNN\n",
    "biRnn_model = nn.RNN(\n",
    "    input_size=len(olivetti_faces.images[0]),\n",
    "    hidden_size=128,\n",
    "    num_layers=2,\n",
    "    batch_first=True,\n",
    "    bias=True,\n",
    "    # 双向RNN\n",
    "    bidirectional=True,\n",
    ")\n",
    "\n",
    "# 定义 BiLSTM\n",
    "biLstm_model = nn.LSTM(\n",
    "    input_size=len(olivetti_faces.images[0]),\n",
    "    hidden_size=128,\n",
    "    num_layers=2,\n",
    "    batch_first=True,\n",
    "    bidirectional=True,\n",
    "    bias=True\n",
    ")\n",
    "# 将模型放置到模型列表中\n",
    "model_list.update({\"rnn_model\":rnn_model, \"biRnn_model\":biRnn_model, \"biLstm_model\":biLstm_model, \"lstm_model\":lstm_model, \"gru_model\":gru_model})\n"
   ],
   "id": "7bccbebb9e827121",
   "outputs": [],
   "execution_count": 33
  },
  {
   "metadata": {
    "ExecuteTime": {
     "end_time": "2025-04-08T16:56:27.349747Z",
     "start_time": "2025-04-08T16:56:27.345879Z"
    }
   },
   "cell_type": "code",
   "source": [
    "# 定义优化器及损失函数\n",
    "def build_rnn_model(model_name):\n",
    "    loss_fn = nn.CrossEntropyLoss()\n",
    "    model = model_list.get(model_name)\n",
    "    optimizer = torch.optim.Adam(model.parameters(), lr=LR)\n",
    "    return loss_fn, model, optimizer"
   ],
   "id": "3b0c757076ec36e5",
   "outputs": [],
   "execution_count": 34
  },
  {
   "metadata": {
    "ExecuteTime": {
     "end_time": "2025-04-08T16:56:30.451831Z",
     "start_time": "2025-04-08T16:56:30.273625Z"
    }
   },
   "cell_type": "code",
   "source": [
    "\n",
    "# 开始训练模型\n",
    "writer = SummaryWriter()\n",
    "# 定义输出线性层\n",
    "liner = nn.Linear(128, 40)\n",
    "for model_name in model_list.keys():\n",
    "        # 初始化模型\n",
    "        loss_fn, model, optimizer = build_rnn_model(model_name)\n",
    "        for epoch in range(EPOCHS):\n",
    "            model.train()\n",
    "            for i, (images, labels) in enumerate(train_dataloader):\n",
    "                optimizer.zero_grad()\n",
    "                # 去除矩阵中值为1 的维度（颜色通道）\n",
    "                outputs, h_l = model(images.squeeze())\n",
    "                out = liner(outputs[:,-1,:])\n",
    "                loss = loss_fn(out, labels)\n",
    "                loss.backward()\n",
    "                # 使用梯度裁剪，并设置最大L2范数为1.0， 超过这个值则会进行梯度裁剪\n",
    "                torch.nn.utils.clip_grad_norm_(model.parameters(),max_norm=1.0)\n",
    "                optimizer.step()\n",
    "\n",
    "                if i % 100 == 0:\n",
    "                    print(f'Epoch [{epoch+1}/{EPOCHS}], {model_name} Loss: {loss.item():.4f}')\n",
    "                    writer.add_scalar(f'{model_name} training loss', loss.item(), epoch * len(train_dataloader) + i)\n",
    "            # 评估模型\n",
    "            model.eval()\n",
    "            with torch.no_grad():\n",
    "                correct = 0\n",
    "                total = 0\n",
    "                for images, labels in test_dataloader:\n",
    "                    outputs = model(images.squeeze())\n",
    "                    _, predicted = torch.max(outputs.data, 1)\n",
    "                    total += labels.size(0)\n",
    "                    correct += (predicted == labels).sum().item()\n",
    "                accuracy = 100 * correct / total\n",
    "                print(f'Epoch [{epoch+1}/{EPOCHS}], {model_name} Test Accuracy: {accuracy:.2f}%')\n",
    "                writer.add_scalar(f'{model_name} test accuracy', accuracy, epoch)"
   ],
   "id": "48dc164358b0386",
   "outputs": [
    {
     "name": "stdout",
     "output_type": "stream",
     "text": [
      "Epoch [1/200], rnn_model Loss: 3.6830\n"
     ]
    },
    {
     "ename": "AttributeError",
     "evalue": "'tuple' object has no attribute 'data'",
     "output_type": "error",
     "traceback": [
      "\u001B[31m---------------------------------------------------------------------------\u001B[39m",
      "\u001B[31mAttributeError\u001B[39m                            Traceback (most recent call last)",
      "\u001B[36mCell\u001B[39m\u001B[36m \u001B[39m\u001B[32mIn[35]\u001B[39m\u001B[32m, line 31\u001B[39m\n\u001B[32m     29\u001B[39m \u001B[38;5;28;01mfor\u001B[39;00m images, labels \u001B[38;5;129;01min\u001B[39;00m test_dataloader:\n\u001B[32m     30\u001B[39m     outputs = model(images.squeeze())\n\u001B[32m---> \u001B[39m\u001B[32m31\u001B[39m     _, predicted = torch.max(\u001B[43moutputs\u001B[49m\u001B[43m.\u001B[49m\u001B[43mdata\u001B[49m, \u001B[32m1\u001B[39m)\n\u001B[32m     32\u001B[39m     total += labels.size(\u001B[32m0\u001B[39m)\n\u001B[32m     33\u001B[39m     correct += (predicted == labels).sum().item()\n",
      "\u001B[31mAttributeError\u001B[39m: 'tuple' object has no attribute 'data'"
     ]
    }
   ],
   "execution_count": 35
  }
 ],
 "metadata": {
  "kernelspec": {
   "display_name": "Python 3",
   "language": "python",
   "name": "python3"
  },
  "language_info": {
   "codemirror_mode": {
    "name": "ipython",
    "version": 2
   },
   "file_extension": ".py",
   "mimetype": "text/x-python",
   "name": "python",
   "nbconvert_exporter": "python",
   "pygments_lexer": "ipython2",
   "version": "2.7.6"
  }
 },
 "nbformat": 4,
 "nbformat_minor": 5
}
